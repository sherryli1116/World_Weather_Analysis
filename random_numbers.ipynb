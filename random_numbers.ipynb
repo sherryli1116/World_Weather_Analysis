{
 "cells": [
  {
   "cell_type": "code",
   "execution_count": 1,
   "id": "ded437e3",
   "metadata": {},
   "outputs": [],
   "source": [
    "# Import the random module.\n",
    "import random"
   ]
  },
  {
   "cell_type": "code",
   "execution_count": 2,
   "id": "4d4a538a",
   "metadata": {},
   "outputs": [
    {
     "data": {
      "text/plain": [
       "-21"
      ]
     },
     "execution_count": 2,
     "metadata": {},
     "output_type": "execute_result"
    }
   ],
   "source": [
    "random.randint(-90,90)"
   ]
  },
  {
   "cell_type": "code",
   "execution_count": 3,
   "id": "9f3ae646",
   "metadata": {},
   "outputs": [
    {
     "data": {
      "text/plain": [
       "0.7529837594766576"
      ]
     },
     "execution_count": 3,
     "metadata": {},
     "output_type": "execute_result"
    }
   ],
   "source": [
    "random.random()"
   ]
  },
  {
   "cell_type": "code",
   "execution_count": 4,
   "id": "7d487b4b",
   "metadata": {},
   "outputs": [
    {
     "data": {
      "text/plain": [
       "-70.64691104800112"
      ]
     },
     "execution_count": 4,
     "metadata": {},
     "output_type": "execute_result"
    }
   ],
   "source": [
    "random_number = random.randint(-90,89) + random.random()\n",
    "random_number"
   ]
  },
  {
   "cell_type": "code",
   "execution_count": 6,
   "id": "38432766",
   "metadata": {},
   "outputs": [
    {
     "data": {
      "text/plain": [
       "[6.327457953377298,\n",
       " -73.20079285312778,\n",
       " 31.57763749585959,\n",
       " -82.94094339472653,\n",
       " -73.98085494745443,\n",
       " 88.28981400931787,\n",
       " -15.839853081790674,\n",
       " 17.773660947964085,\n",
       " 27.713362514290104,\n",
       " -22.587302008931896]"
      ]
     },
     "execution_count": 6,
     "metadata": {},
     "output_type": "execute_result"
    }
   ],
   "source": [
    "x = 1\n",
    "latitudes = []\n",
    "while x < 11:\n",
    "    random_lat = random.randint(-90, 89) + random.random()\n",
    "    latitudes.append(random_lat)\n",
    "    x += 1\n",
    "latitudes"
   ]
  },
  {
   "cell_type": "code",
   "execution_count": 7,
   "id": "a4efa564",
   "metadata": {},
   "outputs": [
    {
     "data": {
      "text/plain": [
       "82"
      ]
     },
     "execution_count": 7,
     "metadata": {},
     "output_type": "execute_result"
    }
   ],
   "source": [
    "random.randrange(-90, 90, step=1)"
   ]
  },
  {
   "cell_type": "code",
   "execution_count": 8,
   "id": "193e3494",
   "metadata": {},
   "outputs": [
    {
     "data": {
      "text/plain": [
       "15"
      ]
     },
     "execution_count": 8,
     "metadata": {},
     "output_type": "execute_result"
    }
   ],
   "source": [
    "random.randrange(-90, 90, step=3)"
   ]
  },
  {
   "cell_type": "code",
   "execution_count": 9,
   "id": "aaf9e8c5",
   "metadata": {},
   "outputs": [
    {
     "data": {
      "text/plain": [
       "70.94672891689817"
      ]
     },
     "execution_count": 9,
     "metadata": {},
     "output_type": "execute_result"
    }
   ],
   "source": [
    "random.uniform(-90, 90)"
   ]
  },
  {
   "cell_type": "code",
   "execution_count": 10,
   "id": "4e63ad3f",
   "metadata": {},
   "outputs": [],
   "source": [
    "# Import the NumPy module.\n",
    "import numpy as np"
   ]
  },
  {
   "cell_type": "code",
   "execution_count": 11,
   "id": "bd71e13e",
   "metadata": {},
   "outputs": [
    {
     "data": {
      "text/plain": [
       "37.818506978476336"
      ]
     },
     "execution_count": 11,
     "metadata": {},
     "output_type": "execute_result"
    }
   ],
   "source": [
    "np.random.uniform(-90.000, 90.000)"
   ]
  },
  {
   "cell_type": "code",
   "execution_count": 12,
   "id": "9760571a",
   "metadata": {},
   "outputs": [
    {
     "data": {
      "text/plain": [
       "array([-11.56772077, -69.9926494 ,  67.98306828, -67.24649009,\n",
       "        86.98322397, -39.56358888,  39.65605056, -19.71715535,\n",
       "        33.13425646, -84.11957356,  38.79062112, -71.39903547,\n",
       "       -53.38835196,  48.11952678,  45.49704921, -18.43298386,\n",
       "        65.54483452, -46.81125381,  89.3683028 , -83.1152866 ,\n",
       "       -56.27050152, -45.87848289,  39.8187274 , -59.19881252,\n",
       "        34.10390162,  -7.57214452,  39.33750359, -19.05764006,\n",
       "       -42.5579766 ,   1.81166037, -18.91022863,  83.24608474,\n",
       "        53.33382404, -42.92989159,  70.62907185,  68.20587593,\n",
       "       -29.20510261, -73.70317376,   8.67645681,  40.92943954,\n",
       "       -39.54947393, -37.93020625, -85.71732668, -12.55224144,\n",
       "        88.76901296,  -0.50057303, -33.66091772, -24.2353221 ,\n",
       "       -45.90470934,  27.15457245])"
      ]
     },
     "execution_count": 12,
     "metadata": {},
     "output_type": "execute_result"
    }
   ],
   "source": [
    "np.random.uniform(-90.000, 90.000, size=50)"
   ]
  },
  {
   "cell_type": "code",
   "execution_count": 13,
   "id": "8190065c",
   "metadata": {},
   "outputs": [],
   "source": [
    "# Import timeit.\n",
    "import timeit"
   ]
  },
  {
   "cell_type": "code",
   "execution_count": 14,
   "id": "5dbbe41f",
   "metadata": {},
   "outputs": [
    {
     "name": "stdout",
     "output_type": "stream",
     "text": [
      "12.2 µs ± 30.6 ns per loop (mean ± std. dev. of 7 runs, 100000 loops each)\n"
     ]
    }
   ],
   "source": [
    "%timeit np.random.uniform(-90.000, 90.000, size=1500)"
   ]
  },
  {
   "cell_type": "code",
   "execution_count": 15,
   "id": "c4e5e105",
   "metadata": {},
   "outputs": [
    {
     "name": "stdout",
     "output_type": "stream",
     "text": [
      "1.21 ms ± 6.08 µs per loop (mean ± std. dev. of 7 runs, 1000 loops each)\n"
     ]
    }
   ],
   "source": [
    "def latitudes(size):\n",
    "    latitudes = []\n",
    "    x = 0\n",
    "    while x < (size):\n",
    "        random_lat = random.randint(-90, 90) + random.random()\n",
    "        latitudes.append(random_lat)\n",
    "        x += 1\n",
    "    return latitudes\n",
    "# Call the function with 1500.\n",
    "%timeit latitudes(1500)"
   ]
  },
  {
   "cell_type": "code",
   "execution_count": null,
   "id": "8b64d4b3",
   "metadata": {},
   "outputs": [],
   "source": []
  }
 ],
 "metadata": {
  "kernelspec": {
   "display_name": "Python 3 (ipykernel)",
   "language": "python",
   "name": "python3"
  },
  "language_info": {
   "codemirror_mode": {
    "name": "ipython",
    "version": 3
   },
   "file_extension": ".py",
   "mimetype": "text/x-python",
   "name": "python",
   "nbconvert_exporter": "python",
   "pygments_lexer": "ipython3",
   "version": "3.9.7"
  }
 },
 "nbformat": 4,
 "nbformat_minor": 5
}
